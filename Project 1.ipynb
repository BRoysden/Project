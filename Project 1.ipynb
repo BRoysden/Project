{
 "cells": [
  {
   "cell_type": "markdown",
   "id": "efb4d987-f73c-4fbc-982f-9da43d54399c",
   "metadata": {},
   "source": [
    "# H1\"My Jupyter Notebook on IBM Watson Studio\"\n"
   ]
  },
  {
   "cell_type": "markdown",
   "id": "c88f7ada-a188-4248-bdc5-13ddb77a38a2",
   "metadata": {},
   "source": [
    "**Brandon Roysden**\n",
    "\n",
    "Data Analyist for Google"
   ]
  },
  {
   "cell_type": "markdown",
   "id": "fada2f3e-79ff-480c-9a4f-af38a6aa0cb9",
   "metadata": {},
   "source": [
    "*\"I am interested in data science because it challenges my mind and makes me want to dig deeper into data environments. It is also a way to bring change to people around the world through information\".*"
   ]
  },
  {
   "cell_type": "markdown",
   "id": "2dd364e6-4e6f-473d-b39c-2fe6a83ab071",
   "metadata": {},
   "source": [
    "### H3\"My code in cell 5 should add two numbers with a correct outcome"
   ]
  },
  {
   "cell_type": "code",
   "execution_count": 1,
   "id": "89f76683-c22f-4b88-b1fa-958f3e05ff73",
   "metadata": {},
   "outputs": [
    {
     "data": {
      "text/plain": [
       "4"
      ]
     },
     "execution_count": 1,
     "metadata": {},
     "output_type": "execute_result"
    }
   ],
   "source": [
    "2+2"
   ]
  },
  {
   "cell_type": "markdown",
   "id": "d2851032-f040-47fe-8634-6ace86e5b19d",
   "metadata": {},
   "source": [
    "horizontal rule\n",
    "***\n",
    "\n",
    "\n",
    "\n",
    "1. This is..\n",
    "2. a numbers..\n",
    "3. list..\n",
    "\n",
    "("
   ]
  },
  {
   "cell_type": "markdown",
   "id": "9da80e2b-9f96-48f7-9a09-0e58aa17564f",
   "metadata": {},
   "source": []
  }
 ],
 "metadata": {
  "kernelspec": {
   "display_name": "Python",
   "language": "python",
   "name": "conda-env-python-py"
  },
  "language_info": {
   "codemirror_mode": {
    "name": "ipython",
    "version": 3
   },
   "file_extension": ".py",
   "mimetype": "text/x-python",
   "name": "python",
   "nbconvert_exporter": "python",
   "pygments_lexer": "ipython3",
   "version": "3.7.12"
  }
 },
 "nbformat": 4,
 "nbformat_minor": 5
}
